{
  "nbformat": 4,
  "nbformat_minor": 0,
  "metadata": {
    "colab": {
      "provenance": [],
      "toc_visible": true,
      "authorship_tag": "ABX9TyO8ejIyco6bTmiwszBgJYBh",
      "include_colab_link": true
    },
    "kernelspec": {
      "name": "python3",
      "display_name": "Python 3"
    },
    "language_info": {
      "name": "python"
    }
  },
  "cells": [
    {
      "cell_type": "markdown",
      "metadata": {
        "id": "view-in-github",
        "colab_type": "text"
      },
      "source": [
        "<a href=\"https://colab.research.google.com/github/lns0801/stock/blob/main/stock.ipynb\" target=\"_parent\"><img src=\"https://colab.research.google.com/assets/colab-badge.svg\" alt=\"Open In Colab\"/></a>"
      ]
    },
    {
      "cell_type": "code",
      "execution_count": null,
      "metadata": {
        "id": "t3CiEVhJpyzZ"
      },
      "outputs": [],
      "source": [
        "import yfinance as yf\n",
        "import pandas as pd\n",
        "import numpy as np\n",
        "import matplotlib.pyplot as plt\n",
        "\n",
        "def get_ticker_by_company_name(company_name, download_all=False):\n",
        "    \"\"\"\n",
        "    yfinance를 통해 S&P 500 종목 중 특정 회사명을 통해 티커를 찾는 함수\n",
        "    download_all이 True로 설정되면 전체 S&P 500 종목 데이터를 다시 가져옵니다.\n",
        "    \"\"\"\n",
        "    # 직접 S&P 500 티커 리스트를 사용하든지 yfinance 속 메서드 by 코드를 활용할 수 있습니다.\n",
        "    # 여기서는 S&P 500 데이터를 한번 다운로드한다는 가정 하에 하드코딩 리스트 처리.\n",
        "    sp500_tickers = ['AAPL', 'MSFT', 'GOOGL', 'AMZN', 'FB', 'TSLA', 'BRK-B', 'TSM', 'V', 'JNJ']  # 예시로 일부만 포함\n",
        "\n",
        "    for ticker in sp500_tickers:\n",
        "        company_info = yf.Ticker(ticker).info\n",
        "        if 'longName' in company_info and company_name.lower() in company_info['longName'].lower():\n",
        "            return ticker\n",
        "    return None\n",
        "\n",
        "def get_stock_data(tickers, start_date, end_date):\n",
        "    \"\"\"여러 주가 데이터를 가져오는 함수\"\"\"\n",
        "    stock_data = yf.download(tickers, start=start_date, end=end_date)['Adj Close']\n",
        "    return stock_data\n",
        "\n",
        "def calculate_returns(stock_data):\n",
        "    \"\"\"수익률을 계산하는 함수\"\"\"\n",
        "    returns = stock_data.pct_change().dropna()\n",
        "    return returns\n",
        "\n",
        "def rebalance_portfolio(weights, returns):\n",
        "    \"\"\"목표 비중으로 리밸런싱하는 함수 및 수익률 기여도 계산\"\"\"\n",
        "    individual_contributions = (weights * returns).sum(axis=1)\n",
        "    total_value = (1 + individual_contributions).cumprod()\n",
        "    contribution_percentage = returns.mul(weights, axis=1).mean()\n",
        "\n",
        "    return total_value, contribution_percentage\n",
        "\n",
        "def run_simulation(company_names, weights, start_date, end_date, initial_investment, rebalance_period='ME'):\n",
        "    tickers = [get_ticker_by_company_name(name) for name in company_names]\n",
        "    tickers = [ticker for ticker in tickers if ticker]  # 유효한 티커만 포함\n",
        "\n",
        "    if not tickers:\n",
        "        print(\"유효한 티커를 찾을 수 없습니다.\")\n",
        "        return None, None\n",
        "\n",
        "    # 주가 데이터 가져오기\n",
        "    stock_data = get_stock_data(tickers, start_date, end_date)\n",
        "\n",
        "    # 수익률 계산\n",
        "    returns = calculate_returns(stock_data)\n",
        "\n",
        "    # 초기 투자금으로 투자 시작\n",
        "    portfolio_value = pd.Series(initial_investment, index=returns.index)\n",
        "\n",
        "    # 포트폴리오 가치 기록을 위한 데이터 프레임 초기화\n",
        "    portfolio_history = pd.DataFrame(index=returns.index)\n",
        "\n",
        "    contribution_percentages = []\n",
        "\n",
        "    for each in pd.date_range(start_date, end_date, freq=rebalance_period):\n",
        "        # 타임존 정보 제거\n",
        "        period_start = pd.Timestamp(each).tz_localize(None).tz_localize('UTC')\n",
        "        period_end = (period_start + pd.DateOffset(months=1) - pd.DateOffset(days=1))\n",
        "\n",
        "        period_returns = returns.loc[period_start:period_end]\n",
        "\n",
        "        # 리밸런싱 후의 포트폴리오 가치 계산\n",
        "        if not period_returns.empty:\n",
        "            portfolio_value, contribution_percentage = rebalance_portfolio(weights, period_returns)\n",
        "            portfolio_value *= portfolio_value.iloc[-1]\n",
        "            portfolio_history = pd.concat([portfolio_history, portfolio_value], axis=0)\n",
        "            contribution_percentages.append(contribution_percentage)\n",
        "\n",
        "    # 월별 기여도를 데이터프레임으로 변환, 인덱스를 DatetimeIndex로 유지\n",
        "    monthly_contributions = pd.DataFrame(contribution_percentages, index=pd.date_range(start_date, end_date, freq=rebalance_period))\n",
        "\n",
        "    # 월별 평균 기여도 계산, .dt accessor 사용\n",
        "    avg_contribution_percentage = monthly_contributions.groupby(monthly_contributions.index.month).mean()\n",
        "\n",
        "    return portfolio_history, avg_contribution_percentage"
      ]
    },
    {
      "cell_type": "markdown",
      "source": [],
      "metadata": {
        "id": "K_LOocEGxxwa"
      }
    },
    {
      "cell_type": "code",
      "source": [
        "\n",
        "# 사용 예제\n",
        "company_names = ['Apple Inc', 'Microsoft Corporation', 'Alphabet Inc']\n",
        "weights = np.array([0.4, 0.3, 0.3])  # 각 종목의 목표 비중\n",
        "start_date = '2000-01-01'\n",
        "end_date = '2023-01-01'\n",
        "initial_investment = 1000  # 초기 투자금 ($1000)\n",
        "\n",
        "# 투자 시뮬레이션 및 리밸런싱\n",
        "portfolio_history, avg_contribution_percentage = run_simulation(company_names, weights, start_date, end_date, initial_investment)\n",
        "\n",
        "# 결과 출력 및 시각화\n",
        "if portfolio_history is not None:\n",
        "    print(avg_contribution_percentage)\n",
        "    fig, ax1 = plt.subplots(figsize=(10, 6))\n",
        "\n",
        "    # 포트폴리오 가치 로그 차트\n",
        "    ax1.plot(portfolio_history, label='Portfolio Value', color='b')\n",
        "    ax1.set_yscale('log')\n",
        "    ax1.set_xlabel('Date')\n",
        "    ax1.set_ylabel('Portfolio Value ($)')\n",
        "    ax1.set_title('Portfolio Value Over Time (Log Scale)')\n",
        "    ax1.grid(True, which='both', linestyle='--', linewidth=0.5)\n",
        "\n",
        "    # 수익률 기여도 그래프\n",
        "    ax2 = ax1.twinx()\n",
        "    avg_contribution_percentage.plot(kind='bar', ax=ax2, alpha=0.3, color='gray', width=0.5)\n",
        "    ax2.set_ylabel('Average Monthly Contribution (%)')\n",
        "    ax2.set_ylim(0, max(avg_contribution_percentage.max()) * 1.2)\n",
        "    ax2.grid(False)\n",
        "\n",
        "    plt.show()"
      ],
      "metadata": {
        "colab": {
          "base_uri": "https://localhost:8080/",
          "height": 1000
        },
        "id": "W2sCNQ8HDtZf",
        "outputId": "b3f5ad53-52a4-44e8-998a-afc35e9692cd"
      },
      "execution_count": null,
      "outputs": [
        {
          "output_type": "stream",
          "name": "stderr",
          "text": [
            "[*********************100%***********************]  3 of 3 completed\n"
          ]
        },
        {
          "output_type": "error",
          "ename": "ValueError",
          "evalue": "Length of values (221) does not match length of index (276)",
          "traceback": [
            "\u001b[0;31m---------------------------------------------------------------------------\u001b[0m",
            "\u001b[0;31mValueError\u001b[0m                                Traceback (most recent call last)",
            "\u001b[0;32m<ipython-input-20-dd02bae907aa>\u001b[0m in \u001b[0;36m<cell line: 9>\u001b[0;34m()\u001b[0m\n\u001b[1;32m      7\u001b[0m \u001b[0;34m\u001b[0m\u001b[0m\n\u001b[1;32m      8\u001b[0m \u001b[0;31m# 투자 시뮬레이션 및 리밸런싱\u001b[0m\u001b[0;34m\u001b[0m\u001b[0;34m\u001b[0m\u001b[0m\n\u001b[0;32m----> 9\u001b[0;31m \u001b[0mportfolio_history\u001b[0m\u001b[0;34m,\u001b[0m \u001b[0mavg_contribution_percentage\u001b[0m \u001b[0;34m=\u001b[0m \u001b[0mrun_simulation\u001b[0m\u001b[0;34m(\u001b[0m\u001b[0mcompany_names\u001b[0m\u001b[0;34m,\u001b[0m \u001b[0mweights\u001b[0m\u001b[0;34m,\u001b[0m \u001b[0mstart_date\u001b[0m\u001b[0;34m,\u001b[0m \u001b[0mend_date\u001b[0m\u001b[0;34m,\u001b[0m \u001b[0minitial_investment\u001b[0m\u001b[0;34m)\u001b[0m\u001b[0;34m\u001b[0m\u001b[0;34m\u001b[0m\u001b[0m\n\u001b[0m\u001b[1;32m     10\u001b[0m \u001b[0;34m\u001b[0m\u001b[0m\n\u001b[1;32m     11\u001b[0m \u001b[0;31m# 결과 출력 및 시각화\u001b[0m\u001b[0;34m\u001b[0m\u001b[0;34m\u001b[0m\u001b[0m\n",
            "\u001b[0;32m<ipython-input-19-2c713f28503f>\u001b[0m in \u001b[0;36mrun_simulation\u001b[0;34m(company_names, weights, start_date, end_date, initial_investment, rebalance_period)\u001b[0m\n\u001b[1;32m     74\u001b[0m \u001b[0;34m\u001b[0m\u001b[0m\n\u001b[1;32m     75\u001b[0m     \u001b[0;31m# 월별 기여도를 데이터프레임으로 변환, 인덱스를 DatetimeIndex로 유지\u001b[0m\u001b[0;34m\u001b[0m\u001b[0;34m\u001b[0m\u001b[0m\n\u001b[0;32m---> 76\u001b[0;31m     \u001b[0mmonthly_contributions\u001b[0m \u001b[0;34m=\u001b[0m \u001b[0mpd\u001b[0m\u001b[0;34m.\u001b[0m\u001b[0mDataFrame\u001b[0m\u001b[0;34m(\u001b[0m\u001b[0mcontribution_percentages\u001b[0m\u001b[0;34m,\u001b[0m \u001b[0mindex\u001b[0m\u001b[0;34m=\u001b[0m\u001b[0mpd\u001b[0m\u001b[0;34m.\u001b[0m\u001b[0mdate_range\u001b[0m\u001b[0;34m(\u001b[0m\u001b[0mstart_date\u001b[0m\u001b[0;34m,\u001b[0m \u001b[0mend_date\u001b[0m\u001b[0;34m,\u001b[0m \u001b[0mfreq\u001b[0m\u001b[0;34m=\u001b[0m\u001b[0mrebalance_period\u001b[0m\u001b[0;34m)\u001b[0m\u001b[0;34m)\u001b[0m\u001b[0;34m\u001b[0m\u001b[0;34m\u001b[0m\u001b[0m\n\u001b[0m\u001b[1;32m     77\u001b[0m \u001b[0;34m\u001b[0m\u001b[0m\n\u001b[1;32m     78\u001b[0m     \u001b[0;31m# 월별 평균 기여도 계산, .dt accessor 사용\u001b[0m\u001b[0;34m\u001b[0m\u001b[0;34m\u001b[0m\u001b[0m\n",
            "\u001b[0;32m/usr/local/lib/python3.10/dist-packages/pandas/core/frame.py\u001b[0m in \u001b[0;36m__init__\u001b[0;34m(self, data, index, columns, dtype, copy)\u001b[0m\n\u001b[1;32m    857\u001b[0m                         \u001b[0mdtype\u001b[0m\u001b[0;34m,\u001b[0m\u001b[0;34m\u001b[0m\u001b[0;34m\u001b[0m\u001b[0m\n\u001b[1;32m    858\u001b[0m                     )\n\u001b[0;32m--> 859\u001b[0;31m                     mgr = arrays_to_mgr(\n\u001b[0m\u001b[1;32m    860\u001b[0m                         \u001b[0marrays\u001b[0m\u001b[0;34m,\u001b[0m\u001b[0;34m\u001b[0m\u001b[0;34m\u001b[0m\u001b[0m\n\u001b[1;32m    861\u001b[0m                         \u001b[0mcolumns\u001b[0m\u001b[0;34m,\u001b[0m\u001b[0;34m\u001b[0m\u001b[0;34m\u001b[0m\u001b[0m\n",
            "\u001b[0;32m/usr/local/lib/python3.10/dist-packages/pandas/core/internals/construction.py\u001b[0m in \u001b[0;36marrays_to_mgr\u001b[0;34m(arrays, columns, index, dtype, verify_integrity, typ, consolidate)\u001b[0m\n\u001b[1;32m    117\u001b[0m \u001b[0;34m\u001b[0m\u001b[0m\n\u001b[1;32m    118\u001b[0m         \u001b[0;31m# don't force copy because getting jammed in an ndarray anyway\u001b[0m\u001b[0;34m\u001b[0m\u001b[0;34m\u001b[0m\u001b[0m\n\u001b[0;32m--> 119\u001b[0;31m         \u001b[0marrays\u001b[0m\u001b[0;34m,\u001b[0m \u001b[0mrefs\u001b[0m \u001b[0;34m=\u001b[0m \u001b[0m_homogenize\u001b[0m\u001b[0;34m(\u001b[0m\u001b[0marrays\u001b[0m\u001b[0;34m,\u001b[0m \u001b[0mindex\u001b[0m\u001b[0;34m,\u001b[0m \u001b[0mdtype\u001b[0m\u001b[0;34m)\u001b[0m\u001b[0;34m\u001b[0m\u001b[0;34m\u001b[0m\u001b[0m\n\u001b[0m\u001b[1;32m    120\u001b[0m         \u001b[0;31m# _homogenize ensures\u001b[0m\u001b[0;34m\u001b[0m\u001b[0;34m\u001b[0m\u001b[0m\n\u001b[1;32m    121\u001b[0m         \u001b[0;31m#  - all(len(x) == len(index) for x in arrays)\u001b[0m\u001b[0;34m\u001b[0m\u001b[0;34m\u001b[0m\u001b[0m\n",
            "\u001b[0;32m/usr/local/lib/python3.10/dist-packages/pandas/core/internals/construction.py\u001b[0m in \u001b[0;36m_homogenize\u001b[0;34m(data, index, dtype)\u001b[0m\n\u001b[1;32m    628\u001b[0m \u001b[0;34m\u001b[0m\u001b[0m\n\u001b[1;32m    629\u001b[0m             \u001b[0mval\u001b[0m \u001b[0;34m=\u001b[0m \u001b[0msanitize_array\u001b[0m\u001b[0;34m(\u001b[0m\u001b[0mval\u001b[0m\u001b[0;34m,\u001b[0m \u001b[0mindex\u001b[0m\u001b[0;34m,\u001b[0m \u001b[0mdtype\u001b[0m\u001b[0;34m=\u001b[0m\u001b[0mdtype\u001b[0m\u001b[0;34m,\u001b[0m \u001b[0mcopy\u001b[0m\u001b[0;34m=\u001b[0m\u001b[0;32mFalse\u001b[0m\u001b[0;34m)\u001b[0m\u001b[0;34m\u001b[0m\u001b[0;34m\u001b[0m\u001b[0m\n\u001b[0;32m--> 630\u001b[0;31m             \u001b[0mcom\u001b[0m\u001b[0;34m.\u001b[0m\u001b[0mrequire_length_match\u001b[0m\u001b[0;34m(\u001b[0m\u001b[0mval\u001b[0m\u001b[0;34m,\u001b[0m \u001b[0mindex\u001b[0m\u001b[0;34m)\u001b[0m\u001b[0;34m\u001b[0m\u001b[0;34m\u001b[0m\u001b[0m\n\u001b[0m\u001b[1;32m    631\u001b[0m             \u001b[0mrefs\u001b[0m\u001b[0;34m.\u001b[0m\u001b[0mappend\u001b[0m\u001b[0;34m(\u001b[0m\u001b[0;32mNone\u001b[0m\u001b[0;34m)\u001b[0m\u001b[0;34m\u001b[0m\u001b[0;34m\u001b[0m\u001b[0m\n\u001b[1;32m    632\u001b[0m \u001b[0;34m\u001b[0m\u001b[0m\n",
            "\u001b[0;32m/usr/local/lib/python3.10/dist-packages/pandas/core/common.py\u001b[0m in \u001b[0;36mrequire_length_match\u001b[0;34m(data, index)\u001b[0m\n\u001b[1;32m    571\u001b[0m     \"\"\"\n\u001b[1;32m    572\u001b[0m     \u001b[0;32mif\u001b[0m \u001b[0mlen\u001b[0m\u001b[0;34m(\u001b[0m\u001b[0mdata\u001b[0m\u001b[0;34m)\u001b[0m \u001b[0;34m!=\u001b[0m \u001b[0mlen\u001b[0m\u001b[0;34m(\u001b[0m\u001b[0mindex\u001b[0m\u001b[0;34m)\u001b[0m\u001b[0;34m:\u001b[0m\u001b[0;34m\u001b[0m\u001b[0;34m\u001b[0m\u001b[0m\n\u001b[0;32m--> 573\u001b[0;31m         raise ValueError(\n\u001b[0m\u001b[1;32m    574\u001b[0m             \u001b[0;34m\"Length of values \"\u001b[0m\u001b[0;34m\u001b[0m\u001b[0;34m\u001b[0m\u001b[0m\n\u001b[1;32m    575\u001b[0m             \u001b[0;34mf\"({len(data)}) \"\u001b[0m\u001b[0;34m\u001b[0m\u001b[0;34m\u001b[0m\u001b[0m\n",
            "\u001b[0;31mValueError\u001b[0m: Length of values (221) does not match length of index (276)"
          ]
        }
      ]
    }
  ]
}